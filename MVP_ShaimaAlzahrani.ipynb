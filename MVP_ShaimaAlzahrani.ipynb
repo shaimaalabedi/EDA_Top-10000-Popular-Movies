{
  "nbformat": 4,
  "nbformat_minor": 0,
  "metadata": {
    "colab": {
      "name": "Untitled6.ipynb",
      "provenance": []
    },
    "kernelspec": {
      "name": "python3",
      "display_name": "Python 3"
    },
    "language_info": {
      "name": "python"
    }
  },
  "cells": [
    {
      "cell_type": "markdown",
      "metadata": {
        "id": "IT07kKqPhdNp"
      },
      "source": [
        "**Welcome to this exploration of 10000 movies!** \n",
        "\n",
        "\n",
        "---\n",
        "\n",
        "\n",
        "What do I want to figure out with this data?\n",
        " \n",
        " I will sift through over 10,000 movie titles in order to discover valuable relationships between variables such as revenues, genres, and popularity. \n",
        "\n",
        "\n",
        "\n"
      ]
    },
    {
      "cell_type": "markdown",
      "metadata": {
        "id": "DQ1oY9VPyMxP"
      },
      "source": [
        "              \n",
        "\n",
        "---\n",
        "\n",
        "\n",
        "           \n",
        "# **Step 1:**\n",
        "##**Data Wrangling**\n",
        "######**Gather, load, and assess the data.**\n",
        "\n",
        "*In this step,\n",
        "I will be looking for missing and problems in quality. \n",
        "I will be planing for making modifications, Such as replacing information and removing duplicates to ensure my dataset is clean for analysis*"
      ]
    },
    {
      "cell_type": "code",
      "metadata": {
        "id": "1trLTOvfy876"
      },
      "source": [
        "# import all libraries I'll use\n",
        "import pandas as pd\n",
        "import numpy as np\n",
        "import matplotlib.pyplot as plt \n",
        "import seaborn as sns"
      ],
      "execution_count": 21,
      "outputs": []
    },
    {
      "cell_type": "code",
      "metadata": {
        "colab": {
          "base_uri": "https://localhost:8080/",
          "height": 615
        },
        "id": "xMZPI0CbzCz5",
        "outputId": "7df1e082-ae8c-44e1-8699-df0688ade02c"
      },
      "source": [
        "# Gather data: load data and print out a few lines.\n",
        "\n",
        "df= pd.read_csv('Movies.csv',\n",
        "                 lineterminator='\\n')\n",
        "df.head()"
      ],
      "execution_count": 22,
      "outputs": [
        {
          "output_type": "execute_result",
          "data": {
            "text/html": [
              "<div>\n",
              "<style scoped>\n",
              "    .dataframe tbody tr th:only-of-type {\n",
              "        vertical-align: middle;\n",
              "    }\n",
              "\n",
              "    .dataframe tbody tr th {\n",
              "        vertical-align: top;\n",
              "    }\n",
              "\n",
              "    .dataframe thead th {\n",
              "        text-align: right;\n",
              "    }\n",
              "</style>\n",
              "<table border=\"1\" class=\"dataframe\">\n",
              "  <thead>\n",
              "    <tr style=\"text-align: right;\">\n",
              "      <th></th>\n",
              "      <th>Unnamed: 0</th>\n",
              "      <th>id</th>\n",
              "      <th>original_language</th>\n",
              "      <th>original_title</th>\n",
              "      <th>popularity</th>\n",
              "      <th>release_date</th>\n",
              "      <th>vote_average</th>\n",
              "      <th>vote_count</th>\n",
              "      <th>genre</th>\n",
              "      <th>overview</th>\n",
              "      <th>revenue</th>\n",
              "      <th>runtime</th>\n",
              "      <th>tagline</th>\n",
              "    </tr>\n",
              "  </thead>\n",
              "  <tbody>\n",
              "    <tr>\n",
              "      <th>0</th>\n",
              "      <td>0</td>\n",
              "      <td>580489</td>\n",
              "      <td>en</td>\n",
              "      <td>Venom: Let There Be Carnage</td>\n",
              "      <td>5401.308</td>\n",
              "      <td>2021-09-30</td>\n",
              "      <td>6.8</td>\n",
              "      <td>1736</td>\n",
              "      <td>['Science Fiction', 'Action', 'Adventure']</td>\n",
              "      <td>After finding a host body in investigative rep...</td>\n",
              "      <td>424000000</td>\n",
              "      <td>97.0</td>\n",
              "      <td>NaN</td>\n",
              "    </tr>\n",
              "    <tr>\n",
              "      <th>1</th>\n",
              "      <td>1</td>\n",
              "      <td>524434</td>\n",
              "      <td>en</td>\n",
              "      <td>Eternals</td>\n",
              "      <td>3365.535</td>\n",
              "      <td>2021-11-03</td>\n",
              "      <td>7.1</td>\n",
              "      <td>622</td>\n",
              "      <td>['Action', 'Adventure', 'Science Fiction', 'Fa...</td>\n",
              "      <td>The Eternals are a team of ancient aliens who ...</td>\n",
              "      <td>165000000</td>\n",
              "      <td>157.0</td>\n",
              "      <td>In the beginning...</td>\n",
              "    </tr>\n",
              "    <tr>\n",
              "      <th>2</th>\n",
              "      <td>2</td>\n",
              "      <td>438631</td>\n",
              "      <td>en</td>\n",
              "      <td>Dune</td>\n",
              "      <td>2911.423</td>\n",
              "      <td>2021-09-15</td>\n",
              "      <td>8.0</td>\n",
              "      <td>3632</td>\n",
              "      <td>['Action', 'Adventure', 'Science Fiction']</td>\n",
              "      <td>Paul Atreides, a brilliant and gifted young ma...</td>\n",
              "      <td>331116356</td>\n",
              "      <td>155.0</td>\n",
              "      <td>Beyond fear, destiny awaits.</td>\n",
              "    </tr>\n",
              "    <tr>\n",
              "      <th>3</th>\n",
              "      <td>3</td>\n",
              "      <td>796499</td>\n",
              "      <td>en</td>\n",
              "      <td>Army of Thieves</td>\n",
              "      <td>2552.437</td>\n",
              "      <td>2021-10-27</td>\n",
              "      <td>6.9</td>\n",
              "      <td>555</td>\n",
              "      <td>['Action', 'Crime', 'Thriller']</td>\n",
              "      <td>A mysterious woman recruits bank teller Ludwig...</td>\n",
              "      <td>0</td>\n",
              "      <td>127.0</td>\n",
              "      <td>Before Vegas, one locksmith became a legend.</td>\n",
              "    </tr>\n",
              "    <tr>\n",
              "      <th>4</th>\n",
              "      <td>4</td>\n",
              "      <td>550988</td>\n",
              "      <td>en</td>\n",
              "      <td>Free Guy</td>\n",
              "      <td>1850.470</td>\n",
              "      <td>2021-08-11</td>\n",
              "      <td>7.8</td>\n",
              "      <td>3493</td>\n",
              "      <td>['Comedy', 'Action', 'Adventure', 'Science Fic...</td>\n",
              "      <td>A bank teller called Guy realizes he is a back...</td>\n",
              "      <td>331096766</td>\n",
              "      <td>115.0</td>\n",
              "      <td>Life's too short to be a background character.</td>\n",
              "    </tr>\n",
              "  </tbody>\n",
              "</table>\n",
              "</div>"
            ],
            "text/plain": [
              "   Unnamed: 0      id  ... runtime                                         tagline\n",
              "0           0  580489  ...    97.0                                             NaN\n",
              "1           1  524434  ...   157.0                             In the beginning...\n",
              "2           2  438631  ...   155.0                    Beyond fear, destiny awaits.\n",
              "3           3  796499  ...   127.0    Before Vegas, one locksmith became a legend.\n",
              "4           4  550988  ...   115.0  Life's too short to be a background character.\n",
              "\n",
              "[5 rows x 13 columns]"
            ]
          },
          "metadata": {},
          "execution_count": 22
        }
      ]
    },
    {
      "cell_type": "markdown",
      "metadata": {
        "id": "2oz6F7YeOl0P"
      },
      "source": [
        "There is lots of information here and also much that I'm not concerned with. \n",
        "\n",
        "\n",
        "*  ` genre ` column has multiple strings of information that should be separated out.   \n",
        "*   I'll replace `'release_date'` with a `release_year` column since I'm more interested just in the release year.\n",
        "*   I'll add a column for all the `decades`.\n",
        "\n",
        "\n",
        "\n",
        "\n"
      ]
    },
    {
      "cell_type": "code",
      "metadata": {
        "colab": {
          "base_uri": "https://localhost:8080/"
        },
        "id": "7On0ntW_2yiJ",
        "outputId": "92b33c72-02fc-4728-feac-ad1705a3271c"
      },
      "source": [
        "# Assess number of rows and columns of dataset\n",
        "df.shape"
      ],
      "execution_count": 23,
      "outputs": [
        {
          "output_type": "execute_result",
          "data": {
            "text/plain": [
              "(10000, 13)"
            ]
          },
          "metadata": {},
          "execution_count": 23
        }
      ]
    },
    {
      "cell_type": "code",
      "metadata": {
        "colab": {
          "base_uri": "https://localhost:8080/"
        },
        "id": "CVMRRL3m265d",
        "outputId": "7cc56996-c358-4af0-8088-701a60f677c4"
      },
      "source": [
        "# Assess summary of dataset.\n",
        "df.info()"
      ],
      "execution_count": 24,
      "outputs": [
        {
          "output_type": "stream",
          "name": "stdout",
          "text": [
            "<class 'pandas.core.frame.DataFrame'>\n",
            "RangeIndex: 10000 entries, 0 to 9999\n",
            "Data columns (total 13 columns):\n",
            " #   Column             Non-Null Count  Dtype  \n",
            "---  ------             --------------  -----  \n",
            " 0   Unnamed: 0         10000 non-null  int64  \n",
            " 1   id                 10000 non-null  int64  \n",
            " 2   original_language  10000 non-null  object \n",
            " 3   original_title     10000 non-null  object \n",
            " 4   popularity         10000 non-null  float64\n",
            " 5   release_date       9962 non-null   object \n",
            " 6   vote_average       10000 non-null  float64\n",
            " 7   vote_count         10000 non-null  int64  \n",
            " 8   genre              10000 non-null  object \n",
            " 9   overview           9900 non-null   object \n",
            " 10  revenue            10000 non-null  int64  \n",
            " 11  runtime            9991 non-null   float64\n",
            " 12  tagline            7080 non-null   object \n",
            "dtypes: float64(3), int64(4), object(6)\n",
            "memory usage: 1015.8+ KB\n"
          ]
        }
      ]
    },
    {
      "cell_type": "markdown",
      "metadata": {
        "id": "X2soQjsP3js4"
      },
      "source": [
        "There is missing row data for some columns, But I plan on removing these columns since they I dont need them. I'll convert `release_date` type from object to int, Next I'll assess statistics for the columns."
      ]
    },
    {
      "cell_type": "markdown",
      "metadata": {
        "id": "BYkvTCav4_nN"
      },
      "source": [
        " Now I'll drop some columns they aren't directly relevant to my questions, I'll dropping `id`, `overview`, `tagline` and `Unnamed: 0`.  \n"
      ]
    },
    {
      "cell_type": "code",
      "metadata": {
        "colab": {
          "base_uri": "https://localhost:8080/",
          "height": 496
        },
        "id": "3J8Be5Jj8Ffo",
        "outputId": "954841cf-9679-46ae-eb62-2c7b36d320e8"
      },
      "source": [
        "# Drop columns they I don't want it\n",
        "df.drop(['id', 'overview', 'tagline', 'Unnamed: 0'], axis=1, inplace=True)\n",
        "df.head()"
      ],
      "execution_count": 25,
      "outputs": [
        {
          "output_type": "execute_result",
          "data": {
            "text/html": [
              "<div>\n",
              "<style scoped>\n",
              "    .dataframe tbody tr th:only-of-type {\n",
              "        vertical-align: middle;\n",
              "    }\n",
              "\n",
              "    .dataframe tbody tr th {\n",
              "        vertical-align: top;\n",
              "    }\n",
              "\n",
              "    .dataframe thead th {\n",
              "        text-align: right;\n",
              "    }\n",
              "</style>\n",
              "<table border=\"1\" class=\"dataframe\">\n",
              "  <thead>\n",
              "    <tr style=\"text-align: right;\">\n",
              "      <th></th>\n",
              "      <th>original_language</th>\n",
              "      <th>original_title</th>\n",
              "      <th>popularity</th>\n",
              "      <th>release_date</th>\n",
              "      <th>vote_average</th>\n",
              "      <th>vote_count</th>\n",
              "      <th>genre</th>\n",
              "      <th>revenue</th>\n",
              "      <th>runtime</th>\n",
              "    </tr>\n",
              "  </thead>\n",
              "  <tbody>\n",
              "    <tr>\n",
              "      <th>0</th>\n",
              "      <td>en</td>\n",
              "      <td>Venom: Let There Be Carnage</td>\n",
              "      <td>5401.308</td>\n",
              "      <td>2021-09-30</td>\n",
              "      <td>6.8</td>\n",
              "      <td>1736</td>\n",
              "      <td>['Science Fiction', 'Action', 'Adventure']</td>\n",
              "      <td>424000000</td>\n",
              "      <td>97.0</td>\n",
              "    </tr>\n",
              "    <tr>\n",
              "      <th>1</th>\n",
              "      <td>en</td>\n",
              "      <td>Eternals</td>\n",
              "      <td>3365.535</td>\n",
              "      <td>2021-11-03</td>\n",
              "      <td>7.1</td>\n",
              "      <td>622</td>\n",
              "      <td>['Action', 'Adventure', 'Science Fiction', 'Fa...</td>\n",
              "      <td>165000000</td>\n",
              "      <td>157.0</td>\n",
              "    </tr>\n",
              "    <tr>\n",
              "      <th>2</th>\n",
              "      <td>en</td>\n",
              "      <td>Dune</td>\n",
              "      <td>2911.423</td>\n",
              "      <td>2021-09-15</td>\n",
              "      <td>8.0</td>\n",
              "      <td>3632</td>\n",
              "      <td>['Action', 'Adventure', 'Science Fiction']</td>\n",
              "      <td>331116356</td>\n",
              "      <td>155.0</td>\n",
              "    </tr>\n",
              "    <tr>\n",
              "      <th>3</th>\n",
              "      <td>en</td>\n",
              "      <td>Army of Thieves</td>\n",
              "      <td>2552.437</td>\n",
              "      <td>2021-10-27</td>\n",
              "      <td>6.9</td>\n",
              "      <td>555</td>\n",
              "      <td>['Action', 'Crime', 'Thriller']</td>\n",
              "      <td>0</td>\n",
              "      <td>127.0</td>\n",
              "    </tr>\n",
              "    <tr>\n",
              "      <th>4</th>\n",
              "      <td>en</td>\n",
              "      <td>Free Guy</td>\n",
              "      <td>1850.470</td>\n",
              "      <td>2021-08-11</td>\n",
              "      <td>7.8</td>\n",
              "      <td>3493</td>\n",
              "      <td>['Comedy', 'Action', 'Adventure', 'Science Fic...</td>\n",
              "      <td>331096766</td>\n",
              "      <td>115.0</td>\n",
              "    </tr>\n",
              "  </tbody>\n",
              "</table>\n",
              "</div>"
            ],
            "text/plain": [
              "  original_language               original_title  ...    revenue runtime\n",
              "0                en  Venom: Let There Be Carnage  ...  424000000    97.0\n",
              "1                en                     Eternals  ...  165000000   157.0\n",
              "2                en                         Dune  ...  331116356   155.0\n",
              "3                en              Army of Thieves  ...          0   127.0\n",
              "4                en                     Free Guy  ...  331096766   115.0\n",
              "\n",
              "[5 rows x 9 columns]"
            ]
          },
          "metadata": {},
          "execution_count": 25
        }
      ]
    },
    {
      "cell_type": "code",
      "metadata": {
        "id": "OaKw8oMpJmVU"
      },
      "source": [
        "# Convert the type of column from object to float and print just the year\n",
        "df['release_date'] = pd.DatetimeIndex(df['release_date']).year\n",
        "# Changing a specific column name\n",
        "df.rename(columns={'release_date':'release_year'}, inplace=True)"
      ],
      "execution_count": 26,
      "outputs": []
    },
    {
      "cell_type": "code",
      "metadata": {
        "colab": {
          "base_uri": "https://localhost:8080/",
          "height": 297
        },
        "id": "Ut0j_9JzFHep",
        "outputId": "de4cb202-a431-4440-e57a-d956a7b32e1c"
      },
      "source": [
        "# Assess statistics for each column\n",
        "df.describe()"
      ],
      "execution_count": 27,
      "outputs": [
        {
          "output_type": "execute_result",
          "data": {
            "text/html": [
              "<div>\n",
              "<style scoped>\n",
              "    .dataframe tbody tr th:only-of-type {\n",
              "        vertical-align: middle;\n",
              "    }\n",
              "\n",
              "    .dataframe tbody tr th {\n",
              "        vertical-align: top;\n",
              "    }\n",
              "\n",
              "    .dataframe thead th {\n",
              "        text-align: right;\n",
              "    }\n",
              "</style>\n",
              "<table border=\"1\" class=\"dataframe\">\n",
              "  <thead>\n",
              "    <tr style=\"text-align: right;\">\n",
              "      <th></th>\n",
              "      <th>popularity</th>\n",
              "      <th>release_year</th>\n",
              "      <th>vote_average</th>\n",
              "      <th>vote_count</th>\n",
              "      <th>revenue</th>\n",
              "      <th>runtime</th>\n",
              "    </tr>\n",
              "  </thead>\n",
              "  <tbody>\n",
              "    <tr>\n",
              "      <th>count</th>\n",
              "      <td>10000.000000</td>\n",
              "      <td>9962.000000</td>\n",
              "      <td>10000.00000</td>\n",
              "      <td>10000.000000</td>\n",
              "      <td>1.000000e+04</td>\n",
              "      <td>9991.000000</td>\n",
              "    </tr>\n",
              "    <tr>\n",
              "      <th>mean</th>\n",
              "      <td>34.516871</td>\n",
              "      <td>2007.518571</td>\n",
              "      <td>6.29875</td>\n",
              "      <td>1315.084900</td>\n",
              "      <td>5.736388e+07</td>\n",
              "      <td>98.773596</td>\n",
              "    </tr>\n",
              "    <tr>\n",
              "      <th>std</th>\n",
              "      <td>100.693958</td>\n",
              "      <td>14.665309</td>\n",
              "      <td>1.43426</td>\n",
              "      <td>2501.899103</td>\n",
              "      <td>1.480771e+08</td>\n",
              "      <td>28.800581</td>\n",
              "    </tr>\n",
              "    <tr>\n",
              "      <th>min</th>\n",
              "      <td>6.269000</td>\n",
              "      <td>1902.000000</td>\n",
              "      <td>0.00000</td>\n",
              "      <td>0.000000</td>\n",
              "      <td>0.000000e+00</td>\n",
              "      <td>0.000000</td>\n",
              "    </tr>\n",
              "    <tr>\n",
              "      <th>25%</th>\n",
              "      <td>11.908000</td>\n",
              "      <td>2002.000000</td>\n",
              "      <td>5.90000</td>\n",
              "      <td>118.000000</td>\n",
              "      <td>0.000000e+00</td>\n",
              "      <td>89.000000</td>\n",
              "    </tr>\n",
              "    <tr>\n",
              "      <th>50%</th>\n",
              "      <td>17.488000</td>\n",
              "      <td>2012.000000</td>\n",
              "      <td>6.50000</td>\n",
              "      <td>425.500000</td>\n",
              "      <td>5.912300e+05</td>\n",
              "      <td>99.000000</td>\n",
              "    </tr>\n",
              "    <tr>\n",
              "      <th>75%</th>\n",
              "      <td>29.626250</td>\n",
              "      <td>2018.000000</td>\n",
              "      <td>7.10000</td>\n",
              "      <td>1297.250000</td>\n",
              "      <td>4.764549e+07</td>\n",
              "      <td>113.000000</td>\n",
              "    </tr>\n",
              "    <tr>\n",
              "      <th>max</th>\n",
              "      <td>5401.308000</td>\n",
              "      <td>2028.000000</td>\n",
              "      <td>9.50000</td>\n",
              "      <td>30184.000000</td>\n",
              "      <td>2.847246e+09</td>\n",
              "      <td>400.000000</td>\n",
              "    </tr>\n",
              "  </tbody>\n",
              "</table>\n",
              "</div>"
            ],
            "text/plain": [
              "         popularity  release_year  ...       revenue      runtime\n",
              "count  10000.000000   9962.000000  ...  1.000000e+04  9991.000000\n",
              "mean      34.516871   2007.518571  ...  5.736388e+07    98.773596\n",
              "std      100.693958     14.665309  ...  1.480771e+08    28.800581\n",
              "min        6.269000   1902.000000  ...  0.000000e+00     0.000000\n",
              "25%       11.908000   2002.000000  ...  0.000000e+00    89.000000\n",
              "50%       17.488000   2012.000000  ...  5.912300e+05    99.000000\n",
              "75%       29.626250   2018.000000  ...  4.764549e+07   113.000000\n",
              "max     5401.308000   2028.000000  ...  2.847246e+09   400.000000\n",
              "\n",
              "[8 rows x 6 columns]"
            ]
          },
          "metadata": {},
          "execution_count": 27
        }
      ]
    },
    {
      "cell_type": "markdown",
      "metadata": {
        "id": "e3xuUw5MP-OQ"
      },
      "source": [
        "Notable findings:\n",
        "\n",
        "`popularity` ranges from 6 - 5401.  \n",
        "\n",
        "`vote_average` from 0 to 9.5. \n",
        "\n",
        "`revenue`  ranges from  0 - 3 billion \n",
        "\n",
        "`release years` range from 1902 - 2028 (average 2010, most were released after 1940) "
      ]
    },
    {
      "cell_type": "code",
      "metadata": {
        "colab": {
          "base_uri": "https://localhost:8080/"
        },
        "id": "J-Rr3l_S8kB7",
        "outputId": "4cd9e8d2-0b73-4cf8-cef9-e3f6827fe9af"
      },
      "source": [
        "# Assess if there are any duplicates.\n",
        "sum(df.duplicated())"
      ],
      "execution_count": 28,
      "outputs": [
        {
          "output_type": "execute_result",
          "data": {
            "text/plain": [
              "0"
            ]
          },
          "metadata": {},
          "execution_count": 28
        }
      ]
    },
    {
      "cell_type": "code",
      "metadata": {
        "colab": {
          "base_uri": "https://localhost:8080/"
        },
        "id": "CPdD1_4K82fM",
        "outputId": "02462332-d98e-4356-acda-9dbe64836aa9"
      },
      "source": [
        "# Assess if any rows have missing values\n",
        "df.isnull().sum()"
      ],
      "execution_count": 29,
      "outputs": [
        {
          "output_type": "execute_result",
          "data": {
            "text/plain": [
              "original_language     0\n",
              "original_title        0\n",
              "popularity            0\n",
              "release_year         38\n",
              "vote_average          0\n",
              "vote_count            0\n",
              "genre                 0\n",
              "revenue               0\n",
              "runtime               9\n",
              "dtype: int64"
            ]
          },
          "metadata": {},
          "execution_count": 29
        }
      ]
    },
    {
      "cell_type": "markdown",
      "metadata": {
        "id": "S8BtUlHxk3aT"
      },
      "source": [
        "There are no duplicates and \n",
        "I'll view the rows with missing information on `runtime` and `release_year` to assess if it's ok to drop, I'd like to order by `runtime` to get a sense if these are full feature length movies.\n",
        "\n",
        "\n"
      ]
    },
    {
      "cell_type": "code",
      "metadata": {
        "colab": {
          "base_uri": "https://localhost:8080/",
          "height": 1000
        },
        "id": "JlQQwBBlAnAH",
        "outputId": "d6e0251f-c563-4493-a037-e901b3fca9a8"
      },
      "source": [
        "# List All missing values order by runtime. \n",
        "df[df.isnull().any(axis=1)].sort_values(['runtime'], ascending=True)"
      ],
      "execution_count": 30,
      "outputs": [
        {
          "output_type": "execute_result",
          "data": {
            "text/html": [
              "<div>\n",
              "<style scoped>\n",
              "    .dataframe tbody tr th:only-of-type {\n",
              "        vertical-align: middle;\n",
              "    }\n",
              "\n",
              "    .dataframe tbody tr th {\n",
              "        vertical-align: top;\n",
              "    }\n",
              "\n",
              "    .dataframe thead th {\n",
              "        text-align: right;\n",
              "    }\n",
              "</style>\n",
              "<table border=\"1\" class=\"dataframe\">\n",
              "  <thead>\n",
              "    <tr style=\"text-align: right;\">\n",
              "      <th></th>\n",
              "      <th>original_language</th>\n",
              "      <th>original_title</th>\n",
              "      <th>popularity</th>\n",
              "      <th>release_year</th>\n",
              "      <th>vote_average</th>\n",
              "      <th>vote_count</th>\n",
              "      <th>genre</th>\n",
              "      <th>revenue</th>\n",
              "      <th>runtime</th>\n",
              "    </tr>\n",
              "  </thead>\n",
              "  <tbody>\n",
              "    <tr>\n",
              "      <th>564</th>\n",
              "      <td>en</td>\n",
              "      <td>Untitled Peaky Blinders Film</td>\n",
              "      <td>100.232</td>\n",
              "      <td>NaN</td>\n",
              "      <td>0.0</td>\n",
              "      <td>0</td>\n",
              "      <td>[]</td>\n",
              "      <td>0</td>\n",
              "      <td>0.0</td>\n",
              "    </tr>\n",
              "    <tr>\n",
              "      <th>9581</th>\n",
              "      <td>es</td>\n",
              "      <td>El sexo me da risa 7</td>\n",
              "      <td>13.090</td>\n",
              "      <td>NaN</td>\n",
              "      <td>5.0</td>\n",
              "      <td>1</td>\n",
              "      <td>[]</td>\n",
              "      <td>0</td>\n",
              "      <td>0.0</td>\n",
              "    </tr>\n",
              "    <tr>\n",
              "      <th>7727</th>\n",
              "      <td>en</td>\n",
              "      <td>Barbie</td>\n",
              "      <td>11.329</td>\n",
              "      <td>NaN</td>\n",
              "      <td>0.0</td>\n",
              "      <td>0</td>\n",
              "      <td>['Comedy']</td>\n",
              "      <td>0</td>\n",
              "      <td>0.0</td>\n",
              "    </tr>\n",
              "    <tr>\n",
              "      <th>7655</th>\n",
              "      <td>en</td>\n",
              "      <td>Hocus Pocus 2</td>\n",
              "      <td>9.594</td>\n",
              "      <td>NaN</td>\n",
              "      <td>0.0</td>\n",
              "      <td>0</td>\n",
              "      <td>['Fantasy', 'Family', 'Comedy']</td>\n",
              "      <td>0</td>\n",
              "      <td>0.0</td>\n",
              "    </tr>\n",
              "    <tr>\n",
              "      <th>7497</th>\n",
              "      <td>en</td>\n",
              "      <td>Happy Death Day to Us</td>\n",
              "      <td>12.127</td>\n",
              "      <td>NaN</td>\n",
              "      <td>0.0</td>\n",
              "      <td>0</td>\n",
              "      <td>['Thriller', 'Comedy']</td>\n",
              "      <td>0</td>\n",
              "      <td>0.0</td>\n",
              "    </tr>\n",
              "    <tr>\n",
              "      <th>7087</th>\n",
              "      <td>es</td>\n",
              "      <td>Gekijô ban poketto monsutâ: Daiamondo &amp; Pâru -...</td>\n",
              "      <td>10.230</td>\n",
              "      <td>NaN</td>\n",
              "      <td>0.0</td>\n",
              "      <td>0</td>\n",
              "      <td>[]</td>\n",
              "      <td>0</td>\n",
              "      <td>0.0</td>\n",
              "    </tr>\n",
              "    <tr>\n",
              "      <th>7023</th>\n",
              "      <td>en</td>\n",
              "      <td>Chucky Boy Blue</td>\n",
              "      <td>11.747</td>\n",
              "      <td>NaN</td>\n",
              "      <td>0.0</td>\n",
              "      <td>0</td>\n",
              "      <td>[]</td>\n",
              "      <td>0</td>\n",
              "      <td>0.0</td>\n",
              "    </tr>\n",
              "    <tr>\n",
              "      <th>6997</th>\n",
              "      <td>en</td>\n",
              "      <td>Blade</td>\n",
              "      <td>9.506</td>\n",
              "      <td>NaN</td>\n",
              "      <td>0.0</td>\n",
              "      <td>0</td>\n",
              "      <td>['Action', 'Fantasy']</td>\n",
              "      <td>0</td>\n",
              "      <td>0.0</td>\n",
              "    </tr>\n",
              "    <tr>\n",
              "      <th>6030</th>\n",
              "      <td>en</td>\n",
              "      <td>My Hero Academia</td>\n",
              "      <td>17.816</td>\n",
              "      <td>NaN</td>\n",
              "      <td>0.0</td>\n",
              "      <td>0</td>\n",
              "      <td>[]</td>\n",
              "      <td>0</td>\n",
              "      <td>0.0</td>\n",
              "    </tr>\n",
              "    <tr>\n",
              "      <th>5980</th>\n",
              "      <td>fr</td>\n",
              "      <td>True Stories Scream</td>\n",
              "      <td>13.589</td>\n",
              "      <td>NaN</td>\n",
              "      <td>0.0</td>\n",
              "      <td>0</td>\n",
              "      <td>['Documentary']</td>\n",
              "      <td>0</td>\n",
              "      <td>0.0</td>\n",
              "    </tr>\n",
              "    <tr>\n",
              "      <th>5872</th>\n",
              "      <td>en</td>\n",
              "      <td>Terrifier 2</td>\n",
              "      <td>16.881</td>\n",
              "      <td>NaN</td>\n",
              "      <td>0.0</td>\n",
              "      <td>0</td>\n",
              "      <td>['Horror', 'Thriller']</td>\n",
              "      <td>0</td>\n",
              "      <td>0.0</td>\n",
              "    </tr>\n",
              "    <tr>\n",
              "      <th>5825</th>\n",
              "      <td>es</td>\n",
              "      <td>Yumbina: La droga del sexo</td>\n",
              "      <td>12.681</td>\n",
              "      <td>NaN</td>\n",
              "      <td>5.0</td>\n",
              "      <td>1</td>\n",
              "      <td>[]</td>\n",
              "      <td>0</td>\n",
              "      <td>0.0</td>\n",
              "    </tr>\n",
              "    <tr>\n",
              "      <th>4691</th>\n",
              "      <td>en</td>\n",
              "      <td>Fantastic Four</td>\n",
              "      <td>16.648</td>\n",
              "      <td>NaN</td>\n",
              "      <td>0.0</td>\n",
              "      <td>0</td>\n",
              "      <td>['Action', 'Adventure', 'Science Fiction']</td>\n",
              "      <td>0</td>\n",
              "      <td>0.0</td>\n",
              "    </tr>\n",
              "    <tr>\n",
              "      <th>9625</th>\n",
              "      <td>en</td>\n",
              "      <td>Green Lantern Corps</td>\n",
              "      <td>9.055</td>\n",
              "      <td>NaN</td>\n",
              "      <td>0.0</td>\n",
              "      <td>0</td>\n",
              "      <td>['Action', 'Adventure', 'Science Fiction']</td>\n",
              "      <td>0</td>\n",
              "      <td>0.0</td>\n",
              "    </tr>\n",
              "    <tr>\n",
              "      <th>4440</th>\n",
              "      <td>en</td>\n",
              "      <td>Fantastic Beasts 5</td>\n",
              "      <td>18.036</td>\n",
              "      <td>NaN</td>\n",
              "      <td>0.0</td>\n",
              "      <td>0</td>\n",
              "      <td>['Adventure', 'Fantasy']</td>\n",
              "      <td>0</td>\n",
              "      <td>0.0</td>\n",
              "    </tr>\n",
              "    <tr>\n",
              "      <th>4470</th>\n",
              "      <td>en</td>\n",
              "      <td>Constantine 2</td>\n",
              "      <td>17.513</td>\n",
              "      <td>NaN</td>\n",
              "      <td>0.0</td>\n",
              "      <td>0</td>\n",
              "      <td>['Action', 'Fantasy', 'Horror']</td>\n",
              "      <td>0</td>\n",
              "      <td>0.0</td>\n",
              "    </tr>\n",
              "    <tr>\n",
              "      <th>9826</th>\n",
              "      <td>en</td>\n",
              "      <td>Gremlins 3</td>\n",
              "      <td>7.781</td>\n",
              "      <td>NaN</td>\n",
              "      <td>0.0</td>\n",
              "      <td>0</td>\n",
              "      <td>['Horror', 'Comedy']</td>\n",
              "      <td>0</td>\n",
              "      <td>0.0</td>\n",
              "    </tr>\n",
              "    <tr>\n",
              "      <th>783</th>\n",
              "      <td>en</td>\n",
              "      <td>Deadpool 3</td>\n",
              "      <td>70.498</td>\n",
              "      <td>NaN</td>\n",
              "      <td>0.0</td>\n",
              "      <td>0</td>\n",
              "      <td>['Action', 'Science Fiction', 'Comedy']</td>\n",
              "      <td>0</td>\n",
              "      <td>0.0</td>\n",
              "    </tr>\n",
              "    <tr>\n",
              "      <th>1155</th>\n",
              "      <td>en</td>\n",
              "      <td>Spider-Man: Lotus</td>\n",
              "      <td>79.384</td>\n",
              "      <td>NaN</td>\n",
              "      <td>0.0</td>\n",
              "      <td>0</td>\n",
              "      <td>['Action', 'Drama']</td>\n",
              "      <td>0</td>\n",
              "      <td>0.0</td>\n",
              "    </tr>\n",
              "    <tr>\n",
              "      <th>1810</th>\n",
              "      <td>en</td>\n",
              "      <td>Ladybug &amp; Cat Noir Awakening</td>\n",
              "      <td>30.067</td>\n",
              "      <td>NaN</td>\n",
              "      <td>0.0</td>\n",
              "      <td>0</td>\n",
              "      <td>['Action', 'Romance', 'Animation', 'Music', 'F...</td>\n",
              "      <td>0</td>\n",
              "      <td>0.0</td>\n",
              "    </tr>\n",
              "    <tr>\n",
              "      <th>4137</th>\n",
              "      <td>en</td>\n",
              "      <td>40 y 20</td>\n",
              "      <td>16.827</td>\n",
              "      <td>NaN</td>\n",
              "      <td>9.0</td>\n",
              "      <td>4</td>\n",
              "      <td>[]</td>\n",
              "      <td>0</td>\n",
              "      <td>0.0</td>\n",
              "    </tr>\n",
              "    <tr>\n",
              "      <th>638</th>\n",
              "      <td>en</td>\n",
              "      <td>Your Name</td>\n",
              "      <td>98.507</td>\n",
              "      <td>NaN</td>\n",
              "      <td>0.0</td>\n",
              "      <td>0</td>\n",
              "      <td>['Drama', 'Fantasy', 'Romance']</td>\n",
              "      <td>0</td>\n",
              "      <td>0.0</td>\n",
              "    </tr>\n",
              "    <tr>\n",
              "      <th>1861</th>\n",
              "      <td>en</td>\n",
              "      <td>Pokémon Detective Pikachu 2</td>\n",
              "      <td>36.675</td>\n",
              "      <td>NaN</td>\n",
              "      <td>0.0</td>\n",
              "      <td>0</td>\n",
              "      <td>['Action', 'Adventure', 'Fantasy']</td>\n",
              "      <td>0</td>\n",
              "      <td>0.0</td>\n",
              "    </tr>\n",
              "    <tr>\n",
              "      <th>619</th>\n",
              "      <td>en</td>\n",
              "      <td>Untitled 'The Walking Dead' Film</td>\n",
              "      <td>82.870</td>\n",
              "      <td>NaN</td>\n",
              "      <td>0.0</td>\n",
              "      <td>0</td>\n",
              "      <td>['Adventure', 'Drama', 'Horror', 'Science Fict...</td>\n",
              "      <td>0</td>\n",
              "      <td>0.0</td>\n",
              "    </tr>\n",
              "    <tr>\n",
              "      <th>2212</th>\n",
              "      <td>en</td>\n",
              "      <td>John Wick: Chapter 5</td>\n",
              "      <td>36.444</td>\n",
              "      <td>NaN</td>\n",
              "      <td>0.0</td>\n",
              "      <td>0</td>\n",
              "      <td>['Action', 'Crime']</td>\n",
              "      <td>0</td>\n",
              "      <td>0.0</td>\n",
              "    </tr>\n",
              "    <tr>\n",
              "      <th>3223</th>\n",
              "      <td>en</td>\n",
              "      <td>Shrek 5</td>\n",
              "      <td>20.641</td>\n",
              "      <td>NaN</td>\n",
              "      <td>0.0</td>\n",
              "      <td>0</td>\n",
              "      <td>['Animation', 'Family', 'Comedy', 'Fantasy']</td>\n",
              "      <td>0</td>\n",
              "      <td>0.0</td>\n",
              "    </tr>\n",
              "    <tr>\n",
              "      <th>3252</th>\n",
              "      <td>ja</td>\n",
              "      <td>One Punch Man</td>\n",
              "      <td>24.967</td>\n",
              "      <td>NaN</td>\n",
              "      <td>7.9</td>\n",
              "      <td>30</td>\n",
              "      <td>['Action', 'Adventure', 'Fantasy']</td>\n",
              "      <td>0</td>\n",
              "      <td>0.0</td>\n",
              "    </tr>\n",
              "    <tr>\n",
              "      <th>3571</th>\n",
              "      <td>es</td>\n",
              "      <td>El sexo me da risa 8</td>\n",
              "      <td>22.870</td>\n",
              "      <td>NaN</td>\n",
              "      <td>5.0</td>\n",
              "      <td>1</td>\n",
              "      <td>[]</td>\n",
              "      <td>0</td>\n",
              "      <td>0.0</td>\n",
              "    </tr>\n",
              "    <tr>\n",
              "      <th>3621</th>\n",
              "      <td>en</td>\n",
              "      <td>Fantastic Beasts 4</td>\n",
              "      <td>23.798</td>\n",
              "      <td>NaN</td>\n",
              "      <td>0.0</td>\n",
              "      <td>0</td>\n",
              "      <td>['Adventure', 'Fantasy']</td>\n",
              "      <td>0</td>\n",
              "      <td>0.0</td>\n",
              "    </tr>\n",
              "    <tr>\n",
              "      <th>567</th>\n",
              "      <td>ja</td>\n",
              "      <td>ドラゴンボール超：スーパーヒーロー</td>\n",
              "      <td>88.668</td>\n",
              "      <td>NaN</td>\n",
              "      <td>0.0</td>\n",
              "      <td>0</td>\n",
              "      <td>['Animation', 'Science Fiction', 'Action']</td>\n",
              "      <td>0</td>\n",
              "      <td>0.0</td>\n",
              "    </tr>\n",
              "    <tr>\n",
              "      <th>4509</th>\n",
              "      <td>en</td>\n",
              "      <td>The Making of 'Bride of Chucky'</td>\n",
              "      <td>17.740</td>\n",
              "      <td>NaN</td>\n",
              "      <td>0.0</td>\n",
              "      <td>0</td>\n",
              "      <td>['Documentary']</td>\n",
              "      <td>0</td>\n",
              "      <td>10.0</td>\n",
              "    </tr>\n",
              "    <tr>\n",
              "      <th>721</th>\n",
              "      <td>ko</td>\n",
              "      <td>TXT (투모로우바이투게더) 'Eternally'</td>\n",
              "      <td>69.673</td>\n",
              "      <td>NaN</td>\n",
              "      <td>8.0</td>\n",
              "      <td>3</td>\n",
              "      <td>['Drama']</td>\n",
              "      <td>0</td>\n",
              "      <td>19.0</td>\n",
              "    </tr>\n",
              "    <tr>\n",
              "      <th>6260</th>\n",
              "      <td>en</td>\n",
              "      <td>Yuki Kajiura Sword Art Online Sing All Overtures</td>\n",
              "      <td>14.230</td>\n",
              "      <td>NaN</td>\n",
              "      <td>0.0</td>\n",
              "      <td>0</td>\n",
              "      <td>[]</td>\n",
              "      <td>0</td>\n",
              "      <td>26.0</td>\n",
              "    </tr>\n",
              "    <tr>\n",
              "      <th>7587</th>\n",
              "      <td>en</td>\n",
              "      <td>ドリーム9 トリコ&amp;ワンピース&amp;ドラゴンボールZ 超コラボスペシャル!</td>\n",
              "      <td>15.359</td>\n",
              "      <td>NaN</td>\n",
              "      <td>0.0</td>\n",
              "      <td>0</td>\n",
              "      <td>[]</td>\n",
              "      <td>0</td>\n",
              "      <td>43.0</td>\n",
              "    </tr>\n",
              "    <tr>\n",
              "      <th>7153</th>\n",
              "      <td>en</td>\n",
              "      <td>Spider-Man: Balance Act</td>\n",
              "      <td>14.743</td>\n",
              "      <td>NaN</td>\n",
              "      <td>4.5</td>\n",
              "      <td>1</td>\n",
              "      <td>[]</td>\n",
              "      <td>0</td>\n",
              "      <td>54.0</td>\n",
              "    </tr>\n",
              "    <tr>\n",
              "      <th>6609</th>\n",
              "      <td>en</td>\n",
              "      <td>It’s Time: The Story of Brad Gaines and Chucky...</td>\n",
              "      <td>11.620</td>\n",
              "      <td>NaN</td>\n",
              "      <td>0.0</td>\n",
              "      <td>0</td>\n",
              "      <td>[]</td>\n",
              "      <td>0</td>\n",
              "      <td>75.0</td>\n",
              "    </tr>\n",
              "    <tr>\n",
              "      <th>4300</th>\n",
              "      <td>ja</td>\n",
              "      <td>Kimetsu Orchestra Concert</td>\n",
              "      <td>20.361</td>\n",
              "      <td>NaN</td>\n",
              "      <td>0.0</td>\n",
              "      <td>0</td>\n",
              "      <td>['Music']</td>\n",
              "      <td>0</td>\n",
              "      <td>114.0</td>\n",
              "    </tr>\n",
              "    <tr>\n",
              "      <th>1879</th>\n",
              "      <td>en</td>\n",
              "      <td>Boku no Hero Academia Season 1</td>\n",
              "      <td>39.654</td>\n",
              "      <td>NaN</td>\n",
              "      <td>0.0</td>\n",
              "      <td>0</td>\n",
              "      <td>[]</td>\n",
              "      <td>0</td>\n",
              "      <td>312.0</td>\n",
              "    </tr>\n",
              "    <tr>\n",
              "      <th>5113</th>\n",
              "      <td>en</td>\n",
              "      <td>Porno Baby</td>\n",
              "      <td>20.603</td>\n",
              "      <td>1974.0</td>\n",
              "      <td>5.6</td>\n",
              "      <td>5</td>\n",
              "      <td>['Drama']</td>\n",
              "      <td>0</td>\n",
              "      <td>NaN</td>\n",
              "    </tr>\n",
              "    <tr>\n",
              "      <th>5250</th>\n",
              "      <td>es</td>\n",
              "      <td>Cómo Filmar Una XXX</td>\n",
              "      <td>19.330</td>\n",
              "      <td>2017.0</td>\n",
              "      <td>6.0</td>\n",
              "      <td>14</td>\n",
              "      <td>['Comedy']</td>\n",
              "      <td>0</td>\n",
              "      <td>NaN</td>\n",
              "    </tr>\n",
              "    <tr>\n",
              "      <th>6701</th>\n",
              "      <td>en</td>\n",
              "      <td>Paris Porno</td>\n",
              "      <td>11.962</td>\n",
              "      <td>1976.0</td>\n",
              "      <td>5.8</td>\n",
              "      <td>4</td>\n",
              "      <td>[]</td>\n",
              "      <td>0</td>\n",
              "      <td>NaN</td>\n",
              "    </tr>\n",
              "    <tr>\n",
              "      <th>7084</th>\n",
              "      <td>en</td>\n",
              "      <td>Sherkat-e Jahelan Dar Los Angeles</td>\n",
              "      <td>15.790</td>\n",
              "      <td>1980.0</td>\n",
              "      <td>3.5</td>\n",
              "      <td>2</td>\n",
              "      <td>[]</td>\n",
              "      <td>0</td>\n",
              "      <td>NaN</td>\n",
              "    </tr>\n",
              "    <tr>\n",
              "      <th>7152</th>\n",
              "      <td>en</td>\n",
              "      <td>Marvel Zombies VS Army of Darkness</td>\n",
              "      <td>9.968</td>\n",
              "      <td>2013.0</td>\n",
              "      <td>0.0</td>\n",
              "      <td>0</td>\n",
              "      <td>['Horror', 'Action', 'Science Fiction']</td>\n",
              "      <td>0</td>\n",
              "      <td>NaN</td>\n",
              "    </tr>\n",
              "    <tr>\n",
              "      <th>7710</th>\n",
              "      <td>pt</td>\n",
              "      <td>Suzy... Sexo Ardente</td>\n",
              "      <td>9.582</td>\n",
              "      <td>1982.0</td>\n",
              "      <td>0.0</td>\n",
              "      <td>0</td>\n",
              "      <td>[]</td>\n",
              "      <td>0</td>\n",
              "      <td>NaN</td>\n",
              "    </tr>\n",
              "    <tr>\n",
              "      <th>8299</th>\n",
              "      <td>en</td>\n",
              "      <td>Halloween: Black Eyes</td>\n",
              "      <td>8.545</td>\n",
              "      <td>2010.0</td>\n",
              "      <td>2.5</td>\n",
              "      <td>2</td>\n",
              "      <td>[]</td>\n",
              "      <td>0</td>\n",
              "      <td>NaN</td>\n",
              "    </tr>\n",
              "    <tr>\n",
              "      <th>8660</th>\n",
              "      <td>pt</td>\n",
              "      <td>Roberta, a Gueixa do Sexo</td>\n",
              "      <td>8.928</td>\n",
              "      <td>1978.0</td>\n",
              "      <td>0.0</td>\n",
              "      <td>0</td>\n",
              "      <td>[]</td>\n",
              "      <td>0</td>\n",
              "      <td>NaN</td>\n",
              "    </tr>\n",
              "    <tr>\n",
              "      <th>9267</th>\n",
              "      <td>en</td>\n",
              "      <td>Chuckie - Dirty Dutch In the Valley</td>\n",
              "      <td>13.353</td>\n",
              "      <td>2014.0</td>\n",
              "      <td>0.0</td>\n",
              "      <td>0</td>\n",
              "      <td>[]</td>\n",
              "      <td>0</td>\n",
              "      <td>NaN</td>\n",
              "    </tr>\n",
              "  </tbody>\n",
              "</table>\n",
              "</div>"
            ],
            "text/plain": [
              "     original_language  ... runtime\n",
              "564                 en  ...     0.0\n",
              "9581                es  ...     0.0\n",
              "7727                en  ...     0.0\n",
              "7655                en  ...     0.0\n",
              "7497                en  ...     0.0\n",
              "7087                es  ...     0.0\n",
              "7023                en  ...     0.0\n",
              "6997                en  ...     0.0\n",
              "6030                en  ...     0.0\n",
              "5980                fr  ...     0.0\n",
              "5872                en  ...     0.0\n",
              "5825                es  ...     0.0\n",
              "4691                en  ...     0.0\n",
              "9625                en  ...     0.0\n",
              "4440                en  ...     0.0\n",
              "4470                en  ...     0.0\n",
              "9826                en  ...     0.0\n",
              "783                 en  ...     0.0\n",
              "1155                en  ...     0.0\n",
              "1810                en  ...     0.0\n",
              "4137                en  ...     0.0\n",
              "638                 en  ...     0.0\n",
              "1861                en  ...     0.0\n",
              "619                 en  ...     0.0\n",
              "2212                en  ...     0.0\n",
              "3223                en  ...     0.0\n",
              "3252                ja  ...     0.0\n",
              "3571                es  ...     0.0\n",
              "3621                en  ...     0.0\n",
              "567                 ja  ...     0.0\n",
              "4509                en  ...    10.0\n",
              "721                 ko  ...    19.0\n",
              "6260                en  ...    26.0\n",
              "7587                en  ...    43.0\n",
              "7153                en  ...    54.0\n",
              "6609                en  ...    75.0\n",
              "4300                ja  ...   114.0\n",
              "1879                en  ...   312.0\n",
              "5113                en  ...     NaN\n",
              "5250                es  ...     NaN\n",
              "6701                en  ...     NaN\n",
              "7084                en  ...     NaN\n",
              "7152                en  ...     NaN\n",
              "7710                pt  ...     NaN\n",
              "8299                en  ...     NaN\n",
              "8660                pt  ...     NaN\n",
              "9267                en  ...     NaN\n",
              "\n",
              "[47 rows x 9 columns]"
            ]
          },
          "metadata": {},
          "execution_count": 30
        }
      ]
    },
    {
      "cell_type": "markdown",
      "metadata": {
        "id": "uGCV-AH4As-Z"
      },
      "source": [
        "Looks like these movies have no `runtime`, and/or `genre`, I'm comfortable with removing them. "
      ]
    },
    {
      "cell_type": "markdown",
      "metadata": {
        "id": "c_2sUpiAGpCQ"
      },
      "source": [
        "I'll review `popularity`, `vote_count`, and `vote_average` more closely. Remove any outliers?"
      ]
    },
    {
      "cell_type": "code",
      "metadata": {
        "colab": {
          "base_uri": "https://localhost:8080/",
          "height": 514
        },
        "id": "rlRhpa_5Gqzx",
        "outputId": "ed5ee497-e9af-42e6-b264-06e46602252d"
      },
      "source": [
        "# print first 15 rows for some columns order by popularity\n",
        "df[['original_title','popularity', 'vote_count', 'vote_average']].sort_values('popularity', ascending=False).head(15)"
      ],
      "execution_count": 31,
      "outputs": [
        {
          "output_type": "execute_result",
          "data": {
            "text/html": [
              "<div>\n",
              "<style scoped>\n",
              "    .dataframe tbody tr th:only-of-type {\n",
              "        vertical-align: middle;\n",
              "    }\n",
              "\n",
              "    .dataframe tbody tr th {\n",
              "        vertical-align: top;\n",
              "    }\n",
              "\n",
              "    .dataframe thead th {\n",
              "        text-align: right;\n",
              "    }\n",
              "</style>\n",
              "<table border=\"1\" class=\"dataframe\">\n",
              "  <thead>\n",
              "    <tr style=\"text-align: right;\">\n",
              "      <th></th>\n",
              "      <th>original_title</th>\n",
              "      <th>popularity</th>\n",
              "      <th>vote_count</th>\n",
              "      <th>vote_average</th>\n",
              "    </tr>\n",
              "  </thead>\n",
              "  <tbody>\n",
              "    <tr>\n",
              "      <th>0</th>\n",
              "      <td>Venom: Let There Be Carnage</td>\n",
              "      <td>5401.308</td>\n",
              "      <td>1736</td>\n",
              "      <td>6.8</td>\n",
              "    </tr>\n",
              "    <tr>\n",
              "      <th>1</th>\n",
              "      <td>Eternals</td>\n",
              "      <td>3365.535</td>\n",
              "      <td>622</td>\n",
              "      <td>7.1</td>\n",
              "    </tr>\n",
              "    <tr>\n",
              "      <th>2</th>\n",
              "      <td>Dune</td>\n",
              "      <td>2911.423</td>\n",
              "      <td>3632</td>\n",
              "      <td>8.0</td>\n",
              "    </tr>\n",
              "    <tr>\n",
              "      <th>3</th>\n",
              "      <td>Army of Thieves</td>\n",
              "      <td>2552.437</td>\n",
              "      <td>555</td>\n",
              "      <td>6.9</td>\n",
              "    </tr>\n",
              "    <tr>\n",
              "      <th>4</th>\n",
              "      <td>Free Guy</td>\n",
              "      <td>1850.470</td>\n",
              "      <td>3493</td>\n",
              "      <td>7.8</td>\n",
              "    </tr>\n",
              "    <tr>\n",
              "      <th>5</th>\n",
              "      <td>Gunpowder Milkshake</td>\n",
              "      <td>1453.423</td>\n",
              "      <td>347</td>\n",
              "      <td>6.5</td>\n",
              "    </tr>\n",
              "    <tr>\n",
              "      <th>12</th>\n",
              "      <td>Shang-Chi and the Legend of the Ten Rings</td>\n",
              "      <td>1327.180</td>\n",
              "      <td>1414</td>\n",
              "      <td>7.7</td>\n",
              "    </tr>\n",
              "    <tr>\n",
              "      <th>6</th>\n",
              "      <td>Venom</td>\n",
              "      <td>1212.352</td>\n",
              "      <td>12126</td>\n",
              "      <td>6.8</td>\n",
              "    </tr>\n",
              "    <tr>\n",
              "      <th>9</th>\n",
              "      <td>American Badger</td>\n",
              "      <td>1148.822</td>\n",
              "      <td>14</td>\n",
              "      <td>6.3</td>\n",
              "    </tr>\n",
              "    <tr>\n",
              "      <th>11</th>\n",
              "      <td>劇場版 七つの大罪 光に呪われし者たち</td>\n",
              "      <td>1108.815</td>\n",
              "      <td>210</td>\n",
              "      <td>8.4</td>\n",
              "    </tr>\n",
              "    <tr>\n",
              "      <th>8</th>\n",
              "      <td>W lesie dziś nie zaśnie nikt 2</td>\n",
              "      <td>1089.852</td>\n",
              "      <td>72</td>\n",
              "      <td>4.1</td>\n",
              "    </tr>\n",
              "    <tr>\n",
              "      <th>13</th>\n",
              "      <td>Snake Eyes: G.I. Joe Origins</td>\n",
              "      <td>1052.222</td>\n",
              "      <td>786</td>\n",
              "      <td>6.9</td>\n",
              "    </tr>\n",
              "    <tr>\n",
              "      <th>14</th>\n",
              "      <td>The Vault</td>\n",
              "      <td>1046.860</td>\n",
              "      <td>392</td>\n",
              "      <td>7.1</td>\n",
              "    </tr>\n",
              "    <tr>\n",
              "      <th>10</th>\n",
              "      <td>The Addams Family 2</td>\n",
              "      <td>1031.821</td>\n",
              "      <td>562</td>\n",
              "      <td>7.4</td>\n",
              "    </tr>\n",
              "    <tr>\n",
              "      <th>7</th>\n",
              "      <td>Halloween Kills</td>\n",
              "      <td>1023.024</td>\n",
              "      <td>1134</td>\n",
              "      <td>7.0</td>\n",
              "    </tr>\n",
              "  </tbody>\n",
              "</table>\n",
              "</div>"
            ],
            "text/plain": [
              "                               original_title  ...  vote_average\n",
              "0                 Venom: Let There Be Carnage  ...           6.8\n",
              "1                                    Eternals  ...           7.1\n",
              "2                                        Dune  ...           8.0\n",
              "3                             Army of Thieves  ...           6.9\n",
              "4                                    Free Guy  ...           7.8\n",
              "5                         Gunpowder Milkshake  ...           6.5\n",
              "12  Shang-Chi and the Legend of the Ten Rings  ...           7.7\n",
              "6                                       Venom  ...           6.8\n",
              "9                             American Badger  ...           6.3\n",
              "11                        劇場版 七つの大罪 光に呪われし者たち  ...           8.4\n",
              "8              W lesie dziś nie zaśnie nikt 2  ...           4.1\n",
              "13               Snake Eyes: G.I. Joe Origins  ...           6.9\n",
              "14                                  The Vault  ...           7.1\n",
              "10                        The Addams Family 2  ...           7.4\n",
              "7                             Halloween Kills  ...           7.0\n",
              "\n",
              "[15 rows x 4 columns]"
            ]
          },
          "metadata": {},
          "execution_count": 31
        }
      ]
    },
    {
      "cell_type": "code",
      "metadata": {
        "colab": {
          "base_uri": "https://localhost:8080/",
          "height": 204
        },
        "id": "AoMT_cisGxhe",
        "outputId": "b13b2602-d8a8-409b-e37c-b4a1893c84d7"
      },
      "source": [
        "# print last 5 rows for some columns order by popularity\n",
        "df[['original_title','popularity', 'vote_count', 'vote_average']].sort_values('popularity', ascending=False).tail()"
      ],
      "execution_count": 32,
      "outputs": [
        {
          "output_type": "execute_result",
          "data": {
            "text/html": [
              "<div>\n",
              "<style scoped>\n",
              "    .dataframe tbody tr th:only-of-type {\n",
              "        vertical-align: middle;\n",
              "    }\n",
              "\n",
              "    .dataframe tbody tr th {\n",
              "        vertical-align: top;\n",
              "    }\n",
              "\n",
              "    .dataframe thead th {\n",
              "        text-align: right;\n",
              "    }\n",
              "</style>\n",
              "<table border=\"1\" class=\"dataframe\">\n",
              "  <thead>\n",
              "    <tr style=\"text-align: right;\">\n",
              "      <th></th>\n",
              "      <th>original_title</th>\n",
              "      <th>popularity</th>\n",
              "      <th>vote_count</th>\n",
              "      <th>vote_average</th>\n",
              "    </tr>\n",
              "  </thead>\n",
              "  <tbody>\n",
              "    <tr>\n",
              "      <th>9357</th>\n",
              "      <td>Auntie Mame</td>\n",
              "      <td>6.338</td>\n",
              "      <td>72</td>\n",
              "      <td>7.0</td>\n",
              "    </tr>\n",
              "    <tr>\n",
              "      <th>9520</th>\n",
              "      <td>巨乳ドラゴン 温泉ゾンビVSストリッパー5</td>\n",
              "      <td>6.330</td>\n",
              "      <td>27</td>\n",
              "      <td>5.6</td>\n",
              "    </tr>\n",
              "    <tr>\n",
              "      <th>9458</th>\n",
              "      <td>Steamboat Bill, Jr.</td>\n",
              "      <td>6.325</td>\n",
              "      <td>222</td>\n",
              "      <td>7.7</td>\n",
              "    </tr>\n",
              "    <tr>\n",
              "      <th>9839</th>\n",
              "      <td>Si on chantait</td>\n",
              "      <td>6.269</td>\n",
              "      <td>12</td>\n",
              "      <td>7.1</td>\n",
              "    </tr>\n",
              "    <tr>\n",
              "      <th>9513</th>\n",
              "      <td>Проклятый чиновник</td>\n",
              "      <td>6.269</td>\n",
              "      <td>3</td>\n",
              "      <td>4.7</td>\n",
              "    </tr>\n",
              "  </tbody>\n",
              "</table>\n",
              "</div>"
            ],
            "text/plain": [
              "             original_title  popularity  vote_count  vote_average\n",
              "9357            Auntie Mame       6.338          72           7.0\n",
              "9520  巨乳ドラゴン 温泉ゾンビVSストリッパー5       6.330          27           5.6\n",
              "9458    Steamboat Bill, Jr.       6.325         222           7.7\n",
              "9839         Si on chantait       6.269          12           7.1\n",
              "9513     Проклятый чиновник       6.269           3           4.7"
            ]
          },
          "metadata": {},
          "execution_count": 32
        }
      ]
    },
    {
      "cell_type": "markdown",
      "metadata": {
        "id": "VSxqdhMKHExC"
      },
      "source": [
        "Doesn't look like there are outliers for `popularity`, Just a wide range of values. Will keep as it is.\n",
        "\n",
        "For `vote_average`, some only have 3 votes while others have upwards of 12,000."
      ]
    },
    {
      "cell_type": "markdown",
      "metadata": {
        "id": "KjGCZrBgI2mn"
      },
      "source": [
        "\n",
        "\n",
        "---\n",
        "\n",
        "\n",
        "#**Step 2:**\n",
        "\n",
        "####**Data Exploration.**\n",
        "######Augment the data, Remove outliers, Create better features. "
      ]
    },
    {
      "cell_type": "code",
      "metadata": {
        "colab": {
          "base_uri": "https://localhost:8080/"
        },
        "id": "_zaJIGQ6DISu",
        "outputId": "52cf3700-f37b-43d2-8538-40f57918ee54"
      },
      "source": [
        "# Drop rows with missing information. \n",
        "df.dropna(inplace=True) \n",
        "print(df.isnull().sum().any()) \n",
        "# Assess summary of dataset.\n",
        "print(df.info())"
      ],
      "execution_count": 33,
      "outputs": [
        {
          "output_type": "stream",
          "name": "stdout",
          "text": [
            "False\n",
            "<class 'pandas.core.frame.DataFrame'>\n",
            "Int64Index: 9953 entries, 0 to 9999\n",
            "Data columns (total 9 columns):\n",
            " #   Column             Non-Null Count  Dtype  \n",
            "---  ------             --------------  -----  \n",
            " 0   original_language  9953 non-null   object \n",
            " 1   original_title     9953 non-null   object \n",
            " 2   popularity         9953 non-null   float64\n",
            " 3   release_year       9953 non-null   float64\n",
            " 4   vote_average       9953 non-null   float64\n",
            " 5   vote_count         9953 non-null   int64  \n",
            " 6   genre              9953 non-null   object \n",
            " 7   revenue            9953 non-null   int64  \n",
            " 8   runtime            9953 non-null   float64\n",
            "dtypes: float64(4), int64(2), object(3)\n",
            "memory usage: 777.6+ KB\n",
            "None\n"
          ]
        }
      ]
    },
    {
      "cell_type": "markdown",
      "metadata": {
        "id": "SpksN5P2PKt0"
      },
      "source": [
        "I'll create a column for all the `decades`, By `release_years` range from 1902 to 2028.\n",
        "\n",
        "\n"
      ]
    },
    {
      "cell_type": "code",
      "metadata": {
        "colab": {
          "base_uri": "https://localhost:8080/",
          "height": 241
        },
        "id": "Ajs7JdFfReZp",
        "outputId": "a20060ff-c8eb-46a4-9a56-a2c9fac4192f"
      },
      "source": [
        "# Creat edges and names for decades\n",
        "bin_edges = [1900, 1909, 1929, 1939, 1949, 1959, 1969, 1979, 1989, 1999, 2009, 2019, 2029]\n",
        "bin_names = ['teens', 'tweenties', 'thirties', 'forties', 'fifties', 'sixties', 'seventies', 'eighties', 'nineties', 'two_thousands', 'two_thousand_tens', 'two_thousand_tweenties']\n",
        "df['decades'] = pd.cut(df['release_year'], bin_edges, labels=bin_names)\n",
        "df.head()"
      ],
      "execution_count": 67,
      "outputs": [
        {
          "output_type": "execute_result",
          "data": {
            "text/html": [
              "<div>\n",
              "<style scoped>\n",
              "    .dataframe tbody tr th:only-of-type {\n",
              "        vertical-align: middle;\n",
              "    }\n",
              "\n",
              "    .dataframe tbody tr th {\n",
              "        vertical-align: top;\n",
              "    }\n",
              "\n",
              "    .dataframe thead th {\n",
              "        text-align: right;\n",
              "    }\n",
              "</style>\n",
              "<table border=\"1\" class=\"dataframe\">\n",
              "  <thead>\n",
              "    <tr style=\"text-align: right;\">\n",
              "      <th></th>\n",
              "      <th>original_language</th>\n",
              "      <th>original_title</th>\n",
              "      <th>popularity</th>\n",
              "      <th>release_year</th>\n",
              "      <th>vote_average</th>\n",
              "      <th>vote_count</th>\n",
              "      <th>genre</th>\n",
              "      <th>revenue</th>\n",
              "      <th>runtime</th>\n",
              "      <th>decades</th>\n",
              "    </tr>\n",
              "  </thead>\n",
              "  <tbody>\n",
              "    <tr>\n",
              "      <th>0</th>\n",
              "      <td>en</td>\n",
              "      <td>Venom: Let There Be Carnage</td>\n",
              "      <td>5401.308</td>\n",
              "      <td>2021.0</td>\n",
              "      <td>6.8</td>\n",
              "      <td>1736</td>\n",
              "      <td>'ScienceFiction','Action','Adventure'</td>\n",
              "      <td>424000000</td>\n",
              "      <td>97.0</td>\n",
              "      <td>two_thousand_tweenties</td>\n",
              "    </tr>\n",
              "    <tr>\n",
              "      <th>1</th>\n",
              "      <td>en</td>\n",
              "      <td>Eternals</td>\n",
              "      <td>3365.535</td>\n",
              "      <td>2021.0</td>\n",
              "      <td>7.1</td>\n",
              "      <td>622</td>\n",
              "      <td>'Action','Adventure','ScienceFiction','Fantasy'</td>\n",
              "      <td>165000000</td>\n",
              "      <td>157.0</td>\n",
              "      <td>two_thousand_tweenties</td>\n",
              "    </tr>\n",
              "    <tr>\n",
              "      <th>2</th>\n",
              "      <td>en</td>\n",
              "      <td>Dune</td>\n",
              "      <td>2911.423</td>\n",
              "      <td>2021.0</td>\n",
              "      <td>8.0</td>\n",
              "      <td>3632</td>\n",
              "      <td>'Action','Adventure','ScienceFiction'</td>\n",
              "      <td>331116356</td>\n",
              "      <td>155.0</td>\n",
              "      <td>two_thousand_tweenties</td>\n",
              "    </tr>\n",
              "    <tr>\n",
              "      <th>3</th>\n",
              "      <td>en</td>\n",
              "      <td>Army of Thieves</td>\n",
              "      <td>2552.437</td>\n",
              "      <td>2021.0</td>\n",
              "      <td>6.9</td>\n",
              "      <td>555</td>\n",
              "      <td>'Action','Crime','Thriller'</td>\n",
              "      <td>0</td>\n",
              "      <td>127.0</td>\n",
              "      <td>two_thousand_tweenties</td>\n",
              "    </tr>\n",
              "    <tr>\n",
              "      <th>4</th>\n",
              "      <td>en</td>\n",
              "      <td>Free Guy</td>\n",
              "      <td>1850.470</td>\n",
              "      <td>2021.0</td>\n",
              "      <td>7.8</td>\n",
              "      <td>3493</td>\n",
              "      <td>'Comedy','Action','Adventure','ScienceFiction'</td>\n",
              "      <td>331096766</td>\n",
              "      <td>115.0</td>\n",
              "      <td>two_thousand_tweenties</td>\n",
              "    </tr>\n",
              "  </tbody>\n",
              "</table>\n",
              "</div>"
            ],
            "text/plain": [
              "  original_language  ...                 decades\n",
              "0                en  ...  two_thousand_tweenties\n",
              "1                en  ...  two_thousand_tweenties\n",
              "2                en  ...  two_thousand_tweenties\n",
              "3                en  ...  two_thousand_tweenties\n",
              "4                en  ...  two_thousand_tweenties\n",
              "\n",
              "[5 rows x 10 columns]"
            ]
          },
          "metadata": {},
          "execution_count": 67
        }
      ]
    },
    {
      "cell_type": "markdown",
      "metadata": {
        "id": "TVskI2z0r53O"
      },
      "source": [
        "now I'll deal with the `genre` column that have multiple values per cell, I'll create separate dataframes. \n",
        "\n",
        "I want to split up the `genres` column cells so I can tally each genre individually. Next I'll remove the '`genres`' column (with multiple values) and replace it with a '`genre`' column (with single values). Then I'll make sure that there is a new row for each `genre` (stacked), so there will be multiple rows with the same `original_title`."
      ]
    },
    {
      "cell_type": "code",
      "metadata": {
        "colab": {
          "base_uri": "https://localhost:8080/"
        },
        "id": "CYhiqeSQsFVy",
        "outputId": "555db072-0394-4aad-d702-12d8eec606b1"
      },
      "source": [
        "df['genre'].str.contains(',')\n",
        "df['genre'].nunique()"
      ],
      "execution_count": 68,
      "outputs": [
        {
          "output_type": "execute_result",
          "data": {
            "text/plain": [
              "2310"
            ]
          },
          "metadata": {},
          "execution_count": 68
        }
      ]
    },
    {
      "cell_type": "code",
      "metadata": {
        "id": "IWjxtthYtEuH"
      },
      "source": [
        "# original df intact.\n",
        "df_split_genre = df.copy()\n",
        "split_genre = df_split_genre['genre'].str.split(',').apply(pd.Series, 1 ).stack().reset_index(level=1, drop=True)\n",
        "split_genre.name = 'genre_split'\n",
        "df_split_genre = df_split_genre.drop(['genre'], axis=1).join(split_genre)"
      ],
      "execution_count": 40,
      "outputs": []
    },
    {
      "cell_type": "code",
      "metadata": {
        "id": "tppPUbLitzLe"
      },
      "source": [
        "# remove characters\n",
        "df['genre'] = df.genre.str.replace(r'[','', regex = True)\n",
        "df['genre'] = df.genre.str.replace(r']','', regex = True)\n",
        "df['genre'] = df.genre.str.replace(r' ','', regex = True)"
      ],
      "execution_count": 41,
      "outputs": []
    },
    {
      "cell_type": "code",
      "metadata": {
        "colab": {
          "base_uri": "https://localhost:8080/"
        },
        "id": "b9kaK_2LtZ3D",
        "outputId": "a84d1847-aa7f-4454-a4db-e95e3a42c637"
      },
      "source": [
        "df_split_genre['genre_split'].unique()"
      ],
      "execution_count": 42,
      "outputs": [
        {
          "output_type": "execute_result",
          "data": {
            "text/plain": [
              "array([\"'ScienceFiction'\", \"'Action'\", \"'Adventure'\", \"'Fantasy'\",\n",
              "       \"'Crime'\", \"'Thriller'\", \"'Comedy'\", \"'Horror'\", \"'Animation'\",\n",
              "       \"'Family'\", \"'Mystery'\", \"'Drama'\", \"'Romance'\", \"'Music'\",\n",
              "       \"'Western'\", \"'TVMovie'\", \"'History'\", \"'War'\", \"'Documentary'\",\n",
              "       ''], dtype=object)"
            ]
          },
          "metadata": {},
          "execution_count": 42
        }
      ]
    },
    {
      "cell_type": "code",
      "metadata": {
        "colab": {
          "base_uri": "https://localhost:8080/"
        },
        "id": "xbpLEqX0tsOw",
        "outputId": "064150ff-f09a-42ee-e608-c4057d438ce6"
      },
      "source": [
        "# Assess summary and number of rows and columns and if there are any duplicates.\n",
        "print(df_split_genre.info())\n",
        "print(df_split_genre.shape)\n",
        "print(sum(df_split_genre.duplicated()))"
      ],
      "execution_count": 69,
      "outputs": [
        {
          "output_type": "stream",
          "name": "stdout",
          "text": [
            "<class 'pandas.core.frame.DataFrame'>\n",
            "Int64Index: 25682 entries, 0 to 9999\n",
            "Data columns (total 10 columns):\n",
            " #   Column             Non-Null Count  Dtype   \n",
            "---  ------             --------------  -----   \n",
            " 0   original_language  25682 non-null  object  \n",
            " 1   original_title     25682 non-null  object  \n",
            " 2   popularity         25682 non-null  float64 \n",
            " 3   release_year       25682 non-null  float64 \n",
            " 4   vote_average       25682 non-null  float64 \n",
            " 5   vote_count         25682 non-null  int64   \n",
            " 6   revenue            25682 non-null  int64   \n",
            " 7   runtime            25682 non-null  float64 \n",
            " 8   decades            25682 non-null  category\n",
            " 9   genre_split        25682 non-null  object  \n",
            "dtypes: category(1), float64(4), int64(2), object(3)\n",
            "memory usage: 2.0+ MB\n",
            "None\n",
            "(25682, 10)\n",
            "0\n"
          ]
        }
      ]
    },
    {
      "cell_type": "markdown",
      "metadata": {
        "id": "xYoy67WbCKDj"
      },
      "source": [
        "there is 1 duplicate row, I'll drop it"
      ]
    },
    {
      "cell_type": "code",
      "metadata": {
        "id": "yQA7WqO3hIl6"
      },
      "source": [
        "# drop duplicates\n",
        "df_split_genre.drop_duplicates(inplace=True)"
      ],
      "execution_count": 70,
      "outputs": []
    },
    {
      "cell_type": "code",
      "metadata": {
        "colab": {
          "base_uri": "https://localhost:8080/"
        },
        "id": "1t7kMzY7uL2W",
        "outputId": "f6291d37-fe15-4098-b930-f94469b24742"
      },
      "source": [
        "# Assess if any rows have missing values\n",
        "df_split_genre.isnull().sum()"
      ],
      "execution_count": 71,
      "outputs": [
        {
          "output_type": "execute_result",
          "data": {
            "text/plain": [
              "original_language    0\n",
              "original_title       0\n",
              "popularity           0\n",
              "release_year         0\n",
              "vote_average         0\n",
              "vote_count           0\n",
              "revenue              0\n",
              "runtime              0\n",
              "decades              0\n",
              "genre_split          0\n",
              "dtype: int64"
            ]
          },
          "metadata": {},
          "execution_count": 71
        }
      ]
    },
    {
      "cell_type": "markdown",
      "metadata": {
        "id": "QfZm-VjkswIS"
      },
      "source": [
        "And We now have 25,683 rows (from 10,000) and 10 columns (same), which makes sense, and no duplicate rows and no null values. "
      ]
    },
    {
      "cell_type": "markdown",
      "metadata": {
        "id": "wkGNWrdQvXtD"
      },
      "source": [
        "\n",
        "\n",
        "---\n",
        "\n",
        "\n",
        "##**step 3**\n",
        "####**Conclusions, Exploratory Data Analysis**\n",
        "In this section, I'll summarize the relationships for compute statistics and make predictions with, To answer our questions and present our findings visually."
      ]
    },
    {
      "cell_type": "markdown",
      "metadata": {
        "id": "5xHJizrolCl4"
      },
      "source": [
        "\n",
        "\n",
        "## **1.   Which type of movies are more popular?**\n",
        "\n",
        "\n"
      ]
    },
    {
      "cell_type": "code",
      "metadata": {
        "colab": {
          "base_uri": "https://localhost:8080/",
          "height": 372
        },
        "id": "P7AWF9YulBl8",
        "outputId": "b6d02815-fba1-42da-97a2-73e68f1875e8"
      },
      "source": [
        "df_split_genre['genre_split'].value_counts().plot(kind='bar', color='b');\n",
        "plt.title('Movies by Genre, 1902-2028', size=20)\n",
        "plt.xlabel('Genre', size=15)\n",
        "plt.ylabel('Movie count', size=15);"
      ],
      "execution_count": 59,
      "outputs": [
        {
          "output_type": "display_data",
          "data": {
            "image/png": "[encoded data removed]",
            "text/plain": [
              "<Figure size 432x288 with 1 Axes>"
            ]
          },
          "metadata": {
            "needs_background": "light"
          }
        }
      ]
    },
    {
      "cell_type": "code",
      "metadata": {
        "colab": {
          "base_uri": "https://localhost:8080/",
          "height": 593
        },
        "id": "2uBO_u4Al5O6",
        "outputId": "cf60d737-9ada-4490-a818-70f252e99ab6"
      },
      "source": [
        "df_split_genre['genre_split'].value_counts().plot(kind='pie', figsize=(10,10))"
      ],
      "execution_count": 65,
      "outputs": [
        {
          "output_type": "execute_result",
          "data": {
            "text/plain": [
              "<matplotlib.axes._subplots.AxesSubplot at 0x7f74eac77050>"
            ]
          },
          "metadata": {},
          "execution_count": 65
        },
        {
          "output_type": "display_data",
          "data": {
            "image/png": "[encoded data removed]",
            "text/plain": [
              "<Figure size 720x720 with 1 Axes>"
            ]
          },
          "metadata": {}
        }
      ]
    },
    {
      "cell_type": "markdown",
      "metadata": {
        "id": "8XzS0kDIcqum"
      },
      "source": [
        "Drama, Comedy, Action, Thriller and Adventure are the most popular genres in general. The pie chart is a better visual since we can assess that these top 5 genres make up about 50% of all movies. TV Movies, Westerns, and War are the least popular genres.\n",
        "\n",
        "Do these genres hold true throughout the decades?"
      ]
    },
    {
      "cell_type": "code",
      "metadata": {
        "colab": {
          "base_uri": "https://localhost:8080/"
        },
        "id": "pUPyjLWuxM9u",
        "outputId": "c9e70add-2412-421c-9c61-6a46fa55d49a"
      },
      "source": [
        "genres_decades = df_split_genre.groupby(['decades'])['genre_split'].value_counts() \n",
        "genres_decades.groupby(level=0).nlargest(3).reset_index(level=0, drop=True)"
      ],
      "execution_count": 151,
      "outputs": [
        {
          "output_type": "execute_result",
          "data": {
            "text/plain": [
              "decades                 genre_split     \n",
              "teens                   'Adventure'            1\n",
              "                        'Fantasy'              1\n",
              "                        'ScienceFiction'       1\n",
              "tweenties               'Drama'                8\n",
              "                        'Comedy'               5\n",
              "                        'Action'               4\n",
              "thirties                'Drama'               11\n",
              "                        'Horror'               6\n",
              "                        'Adventure'            5\n",
              "forties                 'Drama'               21\n",
              "                        'Thriller'            12\n",
              "                        'Comedy'              11\n",
              "fifties                 'Drama'               50\n",
              "                        'Romance'             24\n",
              "                        'Comedy'              15\n",
              "sixties                 'Drama'               64\n",
              "                        'Adventure'           39\n",
              "                        'Comedy'              38\n",
              "seventies               'Drama'               99\n",
              "                        'Action'              55\n",
              "                        'Comedy'              54\n",
              "eighties                'Comedy'             192\n",
              "                        'Action'             167\n",
              "                        'Drama'              158\n",
              "nineties                'Drama'              394\n",
              "                        'Comedy'             338\n",
              "                        'Action'             285\n",
              "two_thousands           'Drama'              793\n",
              "                        'Comedy'             739\n",
              "                        'Action'             559\n",
              "two_thousand_tens       'Drama'             1740\n",
              "                        'Comedy'            1263\n",
              "                        'Action'            1197\n",
              "two_thousand_tweenties  'Drama'              480\n",
              "                        'Comedy'             344\n",
              "                        'Thriller'           329\n",
              "Name: genre_split, dtype: int64"
            ]
          },
          "metadata": {},
          "execution_count": 151
        }
      ]
    },
    {
      "cell_type": "markdown",
      "metadata": {
        "id": "e6YiJYEqddv0"
      },
      "source": [
        "Drama is the most popular genre for every decade except for the 80's which is Comedy."
      ]
    },
    {
      "cell_type": "markdown",
      "metadata": {
        "id": "nmYZXsRnlpIp"
      },
      "source": [
        "## **2.    what are the most popular languages in movies?**"
      ]
    },
    {
      "cell_type": "code",
      "metadata": {
        "colab": {
          "base_uri": "https://localhost:8080/"
        },
        "id": "bbfhMu87Ykao",
        "outputId": "59ea0085-39dc-48cd-be39-7a0bd9e8eab6"
      },
      "source": [
        "genres_decades = df.groupby(['original_language'])['original_language'].value_counts()\n",
        "genres_decades.groupby(level=0).nlargest(3).reset_index(level=0, drop=True)"
      ],
      "execution_count": 135,
      "outputs": [
        {
          "output_type": "execute_result",
          "data": {
            "text/plain": [
              "original_language\n",
              "ar       1\n",
              "be       1\n",
              "bn       1\n",
              "ca       1\n",
              "cn      79\n",
              "cs       6\n",
              "da      30\n",
              "de      78\n",
              "el       3\n",
              "en    7763\n",
              "es     412\n",
              "eu       2\n",
              "fa       5\n",
              "fi       6\n",
              "fr     292\n",
              "ga       1\n",
              "he       9\n",
              "hi      30\n",
              "hu       4\n",
              "id      15\n",
              "is       2\n",
              "it     104\n",
              "ja     606\n",
              "ka       1\n",
              "ko     139\n",
              "la       1\n",
              "lv       3\n",
              "ml       1\n",
              "ms       1\n",
              "nb       1\n",
              "nl      19\n",
              "no      24\n",
              "pl      19\n",
              "pt      53\n",
              "ro       2\n",
              "ru      69\n",
              "sk       1\n",
              "sr       4\n",
              "sv      22\n",
              "ta       2\n",
              "te       3\n",
              "th      15\n",
              "tl       3\n",
              "tr      10\n",
              "uk       5\n",
              "ur       1\n",
              "zh     103\n",
              "Name: original_language, dtype: int64"
            ]
          },
          "metadata": {},
          "execution_count": 135
        }
      ]
    },
    {
      "cell_type": "markdown",
      "metadata": {
        "id": "Y9LcDIBed1g9"
      },
      "source": [
        "English is the most popular language then Japanese, Spanish and French.   "
      ]
    },
    {
      "cell_type": "markdown",
      "metadata": {
        "id": "pLaiuLRol-Yt"
      },
      "source": [
        "\n",
        "## **3.   What are the Top 10 movies with maximum vote average?**\n"
      ]
    },
    {
      "cell_type": "code",
      "metadata": {
        "colab": {
          "base_uri": "https://localhost:8080/",
          "height": 359
        },
        "id": "jiWr7vOVHHXF",
        "outputId": "da3bb550-9c29-4e50-bc66-7248259fa7f6"
      },
      "source": [
        "df[['original_title', 'vote_average']].sort_values(by='vote_average', ascending=False).head(10)"
      ],
      "execution_count": 112,
      "outputs": [
        {
          "output_type": "execute_result",
          "data": {
            "text/html": [
              "<div>\n",
              "<style scoped>\n",
              "    .dataframe tbody tr th:only-of-type {\n",
              "        vertical-align: middle;\n",
              "    }\n",
              "\n",
              "    .dataframe tbody tr th {\n",
              "        vertical-align: top;\n",
              "    }\n",
              "\n",
              "    .dataframe thead th {\n",
              "        text-align: right;\n",
              "    }\n",
              "</style>\n",
              "<table border=\"1\" class=\"dataframe\">\n",
              "  <thead>\n",
              "    <tr style=\"text-align: right;\">\n",
              "      <th></th>\n",
              "      <th>original_title</th>\n",
              "      <th>vote_average</th>\n",
              "    </tr>\n",
              "  </thead>\n",
              "  <tbody>\n",
              "    <tr>\n",
              "      <th>5010</th>\n",
              "      <td>Ebola Zombies</td>\n",
              "      <td>9.5</td>\n",
              "    </tr>\n",
              "    <tr>\n",
              "      <th>7043</th>\n",
              "      <td>Bob Esponja: Días de Cangreburgers</td>\n",
              "      <td>9.5</td>\n",
              "    </tr>\n",
              "    <tr>\n",
              "      <th>577</th>\n",
              "      <td>鬼滅の刃 兄妹の絆</td>\n",
              "      <td>9.4</td>\n",
              "    </tr>\n",
              "    <tr>\n",
              "      <th>2132</th>\n",
              "      <td>Јужни Ветар 2: Убрзање</td>\n",
              "      <td>9.3</td>\n",
              "    </tr>\n",
              "    <tr>\n",
              "      <th>6347</th>\n",
              "      <td>French Lolita</td>\n",
              "      <td>9.3</td>\n",
              "    </tr>\n",
              "    <tr>\n",
              "      <th>5238</th>\n",
              "      <td>번 더 스테이지: 더 무비</td>\n",
              "      <td>9.2</td>\n",
              "    </tr>\n",
              "    <tr>\n",
              "      <th>4835</th>\n",
              "      <td>Franco Escamilla: Por La Anécdota</td>\n",
              "      <td>9.2</td>\n",
              "    </tr>\n",
              "    <tr>\n",
              "      <th>9772</th>\n",
              "      <td>Mr. Robot: Behind the Mask</td>\n",
              "      <td>9.1</td>\n",
              "    </tr>\n",
              "    <tr>\n",
              "      <th>8020</th>\n",
              "      <td>Colegialas lesbianas y el placer de pervertir</td>\n",
              "      <td>9.1</td>\n",
              "    </tr>\n",
              "    <tr>\n",
              "      <th>5835</th>\n",
              "      <td>พร้อมรัก ยัยตุ๊กตาซ้อมรัก</td>\n",
              "      <td>9.0</td>\n",
              "    </tr>\n",
              "  </tbody>\n",
              "</table>\n",
              "</div>"
            ],
            "text/plain": [
              "                                     original_title  vote_average\n",
              "5010                                  Ebola Zombies           9.5\n",
              "7043             Bob Esponja: Días de Cangreburgers           9.5\n",
              "577                                       鬼滅の刃 兄妹の絆           9.4\n",
              "2132                         Јужни Ветар 2: Убрзање           9.3\n",
              "6347                                  French Lolita           9.3\n",
              "5238                                 번 더 스테이지: 더 무비           9.2\n",
              "4835              Franco Escamilla: Por La Anécdota           9.2\n",
              "9772                     Mr. Robot: Behind the Mask           9.1\n",
              "8020  Colegialas lesbianas y el placer de pervertir           9.1\n",
              "5835                      พร้อมรัก ยัยตุ๊กตาซ้อมรัก           9.0"
            ]
          },
          "metadata": {},
          "execution_count": 112
        }
      ]
    },
    {
      "cell_type": "markdown",
      "metadata": {
        "id": "cNeBDNjInSPa"
      },
      "source": [
        "## **4. Display analysis of the revenue trend over the decades.**\n"
      ]
    },
    {
      "cell_type": "code",
      "metadata": {
        "colab": {
          "base_uri": "https://localhost:8080/",
          "height": 552
        },
        "id": "tPiVMnjEoX1p",
        "outputId": "33b14586-bf1e-42c6-c0a1-1be2fbe1346e"
      },
      "source": [
        "rev = df.groupby('release_year')['revenue'].mean()\n",
        "print(df.groupby('decades')['revenue'].mean())\n",
        "plt.plot(rev)\n",
        "plt.title('Revenues over the Years', size=15);\n",
        "plt.xlabel('Decade', size=12)\n",
        "plt.ylabel('Average Revenue', size=12);"
      ],
      "execution_count": 142,
      "outputs": [
        {
          "output_type": "stream",
          "name": "stdout",
          "text": [
            "decades\n",
            "teens                     0.000000e+00\n",
            "tweenties                 6.566715e+05\n",
            "thirties                  1.366846e+07\n",
            "forties                   2.180751e+07\n",
            "fifties                   2.039836e+07\n",
            "sixties                   2.141126e+07\n",
            "seventies                 3.717746e+07\n",
            "eighties                  5.025511e+07\n",
            "nineties                  7.969013e+07\n",
            "two_thousands             8.228045e+07\n",
            "two_thousand_tens         6.136485e+07\n",
            "two_thousand_tweenties    9.479921e+06\n",
            "Name: revenue, dtype: float64\n"
          ]
        },
        {
          "output_type": "display_data",
          "data": {
            "image/png": "[encoded data removed]",
            "text/plain": [
              "<Figure size 432x288 with 1 Axes>"
            ]
          },
          "metadata": {
            "needs_background": "light"
          }
        }
      ]
    },
    {
      "cell_type": "markdown",
      "metadata": {
        "id": "-z-6EOLiiRaj"
      },
      "source": [
        "Revenues over the years have increased from 3 to 10. "
      ]
    },
    {
      "cell_type": "markdown",
      "metadata": {
        "id": "yJi6VD3toMXg"
      },
      "source": [
        "## **5. Display analysis of the trend of movie runtime.**"
      ]
    },
    {
      "cell_type": "code",
      "metadata": {
        "colab": {
          "base_uri": "https://localhost:8080/",
          "height": 353
        },
        "id": "5POiEsJDWRz9",
        "outputId": "84fe30d0-727e-4b47-de7b-0d79b9cbfacb"
      },
      "source": [
        "sns.distplot(df[(df['runtime']<300)&(df['runtime']>0)]['runtime'])"
      ],
      "execution_count": 117,
      "outputs": [
        {
          "output_type": "stream",
          "name": "stderr",
          "text": [
            "/usr/local/lib/python3.7/dist-packages/seaborn/distributions.py:2619: FutureWarning: `distplot` is a deprecated function and will be removed in a future version. Please adapt your code to use either `displot` (a figure-level function with similar flexibility) or `histplot` (an axes-level function for histograms).\n",
            "  warnings.warn(msg, FutureWarning)\n"
          ]
        },
        {
          "output_type": "execute_result",
          "data": {
            "text/plain": [
              "<matplotlib.axes._subplots.AxesSubplot at 0x7f74e9872710>"
            ]
          },
          "metadata": {},
          "execution_count": 117
        },
        {
          "output_type": "display_data",
          "data": {
            "image/png": "[encoded data removed]",
            "text/plain": [
              "<Figure size 432x288 with 1 Axes>"
            ]
          },
          "metadata": {
            "needs_background": "light"
          }
        }
      ]
    },
    {
      "cell_type": "markdown",
      "metadata": {
        "id": "lFvL_adihPSZ"
      },
      "source": [
        "As the plot describes Most movies has an runtime between 90 mins to 120 mins.\n",
        "\n",
        "\n"
      ]
    },
    {
      "cell_type": "markdown",
      "metadata": {
        "id": "DPFD7SzKgajb"
      },
      "source": [
        "## **6. Are specific genres associated with higher revenues?**"
      ]
    },
    {
      "cell_type": "markdown",
      "metadata": {
        "id": "4_iyRNXVe75z"
      },
      "source": [
        "I'll find the top 100 movies in box office revenues to create filters (new dataframes) for the top grossing and below"
      ]
    },
    {
      "cell_type": "code",
      "metadata": {
        "colab": {
          "base_uri": "https://localhost:8080/"
        },
        "id": "tkbhKtHRO4zh",
        "outputId": "dfddd20a-d417-4c47-bddc-8c1cf6c10e99"
      },
      "source": [
        "df_top_hundred = df.sort_values(by=['revenue'], ascending=False).head(100)\n",
        "df_top_hundred['original_title'].nunique()"
      ],
      "execution_count": 140,
      "outputs": [
        {
          "output_type": "execute_result",
          "data": {
            "text/plain": [
              "99"
            ]
          },
          "metadata": {},
          "execution_count": 140
        }
      ]
    },
    {
      "cell_type": "code",
      "metadata": {
        "colab": {
          "base_uri": "https://localhost:8080/",
          "height": 297
        },
        "id": "2VInm1AiPEHW",
        "outputId": "42ef2296-8df8-4e5e-e927-9e390526be2d"
      },
      "source": [
        "df_top_hundred.describe()"
      ],
      "execution_count": 91,
      "outputs": [
        {
          "output_type": "execute_result",
          "data": {
            "text/html": [
              "<div>\n",
              "<style scoped>\n",
              "    .dataframe tbody tr th:only-of-type {\n",
              "        vertical-align: middle;\n",
              "    }\n",
              "\n",
              "    .dataframe tbody tr th {\n",
              "        vertical-align: top;\n",
              "    }\n",
              "\n",
              "    .dataframe thead th {\n",
              "        text-align: right;\n",
              "    }\n",
              "</style>\n",
              "<table border=\"1\" class=\"dataframe\">\n",
              "  <thead>\n",
              "    <tr style=\"text-align: right;\">\n",
              "      <th></th>\n",
              "      <th>popularity</th>\n",
              "      <th>release_year</th>\n",
              "      <th>vote_average</th>\n",
              "      <th>vote_count</th>\n",
              "      <th>revenue</th>\n",
              "      <th>runtime</th>\n",
              "    </tr>\n",
              "  </thead>\n",
              "  <tbody>\n",
              "    <tr>\n",
              "      <th>count</th>\n",
              "      <td>100.000000</td>\n",
              "      <td>100.000000</td>\n",
              "      <td>100.000000</td>\n",
              "      <td>100.000000</td>\n",
              "      <td>1.000000e+02</td>\n",
              "      <td>100.000000</td>\n",
              "    </tr>\n",
              "    <tr>\n",
              "      <th>mean</th>\n",
              "      <td>122.865650</td>\n",
              "      <td>2011.320000</td>\n",
              "      <td>7.258000</td>\n",
              "      <td>13271.420000</td>\n",
              "      <td>1.069005e+09</td>\n",
              "      <td>132.540000</td>\n",
              "    </tr>\n",
              "    <tr>\n",
              "      <th>std</th>\n",
              "      <td>136.876208</td>\n",
              "      <td>7.793911</td>\n",
              "      <td>0.658462</td>\n",
              "      <td>5421.331659</td>\n",
              "      <td>3.740038e+08</td>\n",
              "      <td>24.204691</td>\n",
              "    </tr>\n",
              "    <tr>\n",
              "      <th>min</th>\n",
              "      <td>16.642000</td>\n",
              "      <td>1977.000000</td>\n",
              "      <td>5.800000</td>\n",
              "      <td>176.000000</td>\n",
              "      <td>7.634556e+08</td>\n",
              "      <td>87.000000</td>\n",
              "    </tr>\n",
              "    <tr>\n",
              "      <th>25%</th>\n",
              "      <td>60.302250</td>\n",
              "      <td>2007.750000</td>\n",
              "      <td>6.800000</td>\n",
              "      <td>9013.250000</td>\n",
              "      <td>8.529828e+08</td>\n",
              "      <td>118.000000</td>\n",
              "    </tr>\n",
              "    <tr>\n",
              "      <th>50%</th>\n",
              "      <td>93.262500</td>\n",
              "      <td>2013.500000</td>\n",
              "      <td>7.300000</td>\n",
              "      <td>12640.000000</td>\n",
              "      <td>9.572099e+08</td>\n",
              "      <td>133.500000</td>\n",
              "    </tr>\n",
              "    <tr>\n",
              "      <th>75%</th>\n",
              "      <td>136.721000</td>\n",
              "      <td>2017.000000</td>\n",
              "      <td>7.700000</td>\n",
              "      <td>16944.750000</td>\n",
              "      <td>1.124915e+09</td>\n",
              "      <td>148.000000</td>\n",
              "    </tr>\n",
              "    <tr>\n",
              "      <th>max</th>\n",
              "      <td>1212.352000</td>\n",
              "      <td>2019.000000</td>\n",
              "      <td>8.500000</td>\n",
              "      <td>30184.000000</td>\n",
              "      <td>2.847246e+09</td>\n",
              "      <td>201.000000</td>\n",
              "    </tr>\n",
              "  </tbody>\n",
              "</table>\n",
              "</div>"
            ],
            "text/plain": [
              "        popularity  release_year  ...       revenue     runtime\n",
              "count   100.000000    100.000000  ...  1.000000e+02  100.000000\n",
              "mean    122.865650   2011.320000  ...  1.069005e+09  132.540000\n",
              "std     136.876208      7.793911  ...  3.740038e+08   24.204691\n",
              "min      16.642000   1977.000000  ...  7.634556e+08   87.000000\n",
              "25%      60.302250   2007.750000  ...  8.529828e+08  118.000000\n",
              "50%      93.262500   2013.500000  ...  9.572099e+08  133.500000\n",
              "75%     136.721000   2017.000000  ...  1.124915e+09  148.000000\n",
              "max    1212.352000   2019.000000  ...  2.847246e+09  201.000000\n",
              "\n",
              "[8 rows x 6 columns]"
            ]
          },
          "metadata": {},
          "execution_count": 91
        }
      ]
    },
    {
      "cell_type": "markdown",
      "metadata": {
        "id": "aXeMbPmmfg5V"
      },
      "source": [
        "The min revenue for the top 100 movies is 7.634556e+08\n",
        "I'll create two filters with the split_genre dataframe: The top 100 grossing movies and below"
      ]
    },
    {
      "cell_type": "code",
      "metadata": {
        "colab": {
          "base_uri": "https://localhost:8080/"
        },
        "id": "62FOoABEPHuh",
        "outputId": "37beec25-ba97-4b40-8ea0-953210c0ab68"
      },
      "source": [
        "below_hundred = df_split_genre.query('revenue < 7.634556e+08')\n",
        "top_hundred = df_split_genre.query('revenue >= 7.634556e+08')\n",
        "print(below_hundred['genre_split'].value_counts().nlargest(5))\n",
        "print(top_hundred['genre_split'].value_counts().nlargest(5))"
      ],
      "execution_count": 141,
      "outputs": [
        {
          "output_type": "stream",
          "name": "stdout",
          "text": [
            "'Drama'        3807\n",
            "'Comedy'       2983\n",
            "'Thriller'     2539\n",
            "'Action'       2503\n",
            "'Adventure'    1668\n",
            "Name: genre_split, dtype: int64\n",
            "'Adventure'         85\n",
            "'Action'            61\n",
            "'Fantasy'           41\n",
            "'ScienceFiction'    33\n",
            "'Family'            25\n",
            "Name: genre_split, dtype: int64\n"
          ]
        }
      ]
    },
    {
      "cell_type": "code",
      "metadata": {
        "colab": {
          "base_uri": "https://localhost:8080/",
          "height": 303
        },
        "id": "rkS5fBc6PPUS",
        "outputId": "a07b348f-601f-4861-ea05-9ed57cbf41b0"
      },
      "source": [
        "below_hundred['genre_split'].value_counts().nlargest(5).plot(kind='pie',\n",
        " figsize=(5,5));"
      ],
      "execution_count": 138,
      "outputs": [
        {
          "output_type": "display_data",
          "data": {
            "image/png": "[encoded data removed]",
            "text/plain": [
              "<Figure size 360x360 with 1 Axes>"
            ]
          },
          "metadata": {}
        }
      ]
    },
    {
      "cell_type": "code",
      "metadata": {
        "colab": {
          "base_uri": "https://localhost:8080/",
          "height": 303
        },
        "id": "hmOdaI3tPSiM",
        "outputId": "493110df-1efd-4804-fbd1-45783bfff171"
      },
      "source": [
        "top_hundred['genre_split'].value_counts().nlargest(5).plot(kind='pie', figsize=(5,5));"
      ],
      "execution_count": 95,
      "outputs": [
        {
          "output_type": "display_data",
          "data": {
            "image/png": "[encoded data removed]",
            "text/plain": [
              "<Figure size 360x360 with 1 Axes>"
            ]
          },
          "metadata": {}
        }
      ]
    },
    {
      "cell_type": "markdown",
      "metadata": {
        "id": "FNZjvD1Uf8Qn"
      },
      "source": [
        "Movies that make less revenue are Dramas, Comedies, and Thrillers.\n",
        "\n",
        "The top 100 revenue producing movies are Adventure, Action, and Fantasy."
      ]
    }
  ]
}